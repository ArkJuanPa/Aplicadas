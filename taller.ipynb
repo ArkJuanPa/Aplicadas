{
  "nbformat": 4,
  "nbformat_minor": 0,
  "metadata": {
    "colab": {
      "provenance": [],
      "authorship_tag": "ABX9TyMLgSsJkSOL+goG4PRdbhea",
      "include_colab_link": true
    },
    "kernelspec": {
      "name": "python3",
      "display_name": "Python 3"
    },
    "language_info": {
      "name": "python"
    }
  },
  "cells": [
    {
      "cell_type": "markdown",
      "metadata": {
        "id": "view-in-github",
        "colab_type": "text"
      },
      "source": [
        "<a href=\"https://colab.research.google.com/github/ArkJuanPa/Aplicadas/blob/main/taller.ipynb\" target=\"_parent\"><img src=\"https://colab.research.google.com/assets/colab-badge.svg\" alt=\"Open In Colab\"/></a>"
      ]
    },
    {
      "cell_type": "markdown",
      "source": [
        "#Matematicas Aplicadas\n",
        "##Taller #1\n",
        "Escritura en Latex y Acercamiento a Python\n",
        "Docente: Yasmin Johanna Garcıa\n",
        "\n",
        "##Punto 1\n",
        "1.1\n",
        "\n",
        "$r=\\frac{2πg}{A}$\n",
        "\n",
        "$h=\\frac{3V}{A_b}$\n",
        "\n",
        "$r=\\sqrt[3]{\\frac{\\frac{4}{3}π} {V}}$\n",
        "\n",
        "$h=\\frac{\\frac{B+b}{2}}{A}$\n",
        "\n",
        "$t=\\frac{q}{I}$\n",
        "\n",
        "$R=\\frac{V}{I}$\n",
        "\n",
        "$t=\\frac{\\frac{V^2}{R}}{E}$\n",
        "\n",
        "$R=\\frac{\\frac{1}{R_1}+\\frac{1}{R_2}}{1}$\n",
        "\n",
        "$P_f=\\frac{T_f(\\frac{P_0V_0}{T_0})}{V_f}$\n",
        "\n",
        "$V_B=V_A-IR$\n",
        "\n",
        "\n",
        "1.2\n",
        "\n",
        "\n"
      ],
      "metadata": {
        "id": "IFV802ILvcn1"
      }
    },
    {
      "cell_type": "code",
      "source": [
        "x=(3*(-5 + 10 + (-5)) - 2*((-2) + (-4) + 10))**2\n"
      ],
      "metadata": {
        "id": "hwyRjeIp9xhn"
      },
      "execution_count": 12,
      "outputs": []
    },
    {
      "cell_type": "code",
      "source": [
        "x"
      ],
      "metadata": {
        "colab": {
          "base_uri": "https://localhost:8080/"
        },
        "id": "hTr_CyVE-xb_",
        "outputId": "0deaf074-ba58-4904-92f9-7b4c985e26c2"
      },
      "execution_count": 13,
      "outputs": [
        {
          "output_type": "execute_result",
          "data": {
            "text/plain": [
              "64"
            ]
          },
          "metadata": {},
          "execution_count": 13
        }
      ]
    },
    {
      "cell_type": "code",
      "source": [
        "45+(3*(2 + 8)-(8/4))+10-83"
      ],
      "metadata": {
        "colab": {
          "base_uri": "https://localhost:8080/"
        },
        "id": "jSvRDnm--Rr7",
        "outputId": "54f9b5be-f7af-4df1-ee23-f1a4ab3881dc"
      },
      "execution_count": 15,
      "outputs": [
        {
          "output_type": "execute_result",
          "data": {
            "text/plain": [
              "0.0"
            ]
          },
          "metadata": {},
          "execution_count": 15
        }
      ]
    },
    {
      "cell_type": "code",
      "source": [
        "(( -4 + 7)*2 - 10)*(-4)-7-3\n"
      ],
      "metadata": {
        "colab": {
          "base_uri": "https://localhost:8080/"
        },
        "id": "W0IVGyod_h8B",
        "outputId": "f241f7fc-88c1-4ac7-ca21-d069c6607da1"
      },
      "execution_count": 16,
      "outputs": [
        {
          "output_type": "execute_result",
          "data": {
            "text/plain": [
              "6"
            ]
          },
          "metadata": {},
          "execution_count": 16
        }
      ]
    },
    {
      "cell_type": "markdown",
      "source": [
        "1.3"
      ],
      "metadata": {
        "id": "kEq4djeAAY5T"
      }
    },
    {
      "cell_type": "code",
      "source": [],
      "metadata": {
        "id": "HcaulJGi_YhI"
      },
      "execution_count": null,
      "outputs": []
    }
  ]
}