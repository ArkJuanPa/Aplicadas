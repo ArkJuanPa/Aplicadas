{
  "nbformat": 4,
  "nbformat_minor": 0,
  "metadata": {
    "colab": {
      "provenance": [],
      "authorship_tag": "ABX9TyMjJufXj1I3rxxRNv5pzfJP",
      "include_colab_link": true
    },
    "kernelspec": {
      "name": "python3",
      "display_name": "Python 3"
    },
    "language_info": {
      "name": "python"
    }
  },
  "cells": [
    {
      "cell_type": "markdown",
      "metadata": {
        "id": "view-in-github",
        "colab_type": "text"
      },
      "source": [
        "<a href=\"https://colab.research.google.com/github/ArkJuanPa/Aplicadas/blob/main/MartinezJuan_A00407215.ipynb\" target=\"_parent\"><img src=\"https://colab.research.google.com/assets/colab-badge.svg\" alt=\"Open In Colab\"/></a>"
      ]
    },
    {
      "cell_type": "code",
      "execution_count": null,
      "metadata": {
        "id": "M_YMnlzwjUjo"
      },
      "outputs": [],
      "source": []
    },
    {
      "cell_type": "markdown",
      "source": [
        "#Juan Pablo Martinez Rosero\n",
        "##Autobiografia\n",
        "Hola, mi nombre es Juan Pablo Martinez, prefiero que me llamen por mi segundo nombre \"Pablo\". Naci en Bogota, donde vivi una gran parte de mi vida, aunque tambien he vivido varios años en el pueblo en el que nació mi madre, el cual es Leiva-Nariño. Actualmente vivo en la ciudad de Cali, en la cual ya voy a cumplir 3 años de vivir en esta grandiosa Ciudad. Vivo junto a mi hermana, mi cuñado y mis dos sobrinas. Termine mi bachillerato en colegio INEM Jorge Isaacs, en el cual obtuve un titulo de bachiller de tecnico en reparacion y mantenimiento de computadores y un Tecnico en sistemas del SENA. Por ultimo, gracias a una beca empresarial tengo la oportunidad de estudiar la carrera de Ingeneria de Sistemas en la grandiosa Universidad ICESI.\n",
        "\n",
        "Soy una persona a la cual le gusta el baile y el deporte, tambien soy un aficionado de los videojuegos, uno de mis favoritos es Halo, me gusta la mayoria de los que han salido en esta saga de juegos preo mi favorito en definitiva es el Halo Reach. Tambien soy un apasionado de la musica, suelo escuchar todos los generos, aunque los que mas escucho son: La salsa, El trap argentino, la electronica, pero prefiero escuchar todo tipo de musica.\n",
        "\n",
        "\n",
        "<img src=https://nivelgamer.com/wp-content/uploads/2019/12/Captura-de-Pantalla-2019-12-03-a-las-11.27.05-p.-m..png\n",
        " width=\"400\" height=\"200\" align=\"center\">\n",
        "\n",
        "#Musica\n",
        "\n",
        "1.\n",
        ">***Mirame***\n",
        ">> *BLESSD & OVY ON THE DRUMS*\n",
        ">>> *2024*\n",
        "\n",
        "2.\n",
        ">***INOCENTE***\n",
        ">> *MORA FEAT FEID*\n",
        ">>> *2022*\n",
        "\n",
        "3.\n",
        ">***Ademas de mi remix***\n",
        ">> *Rusherking, Tiago PZK, KHEA, LIT Killah, Duki, Maria Becerra*\n",
        ">>> *2021*\n",
        "\n",
        "4.\n",
        ">***Lo que hay x aqui***\n",
        ">> *Rels B*\n",
        ">>> *2023*\n",
        "\n",
        "5.\n",
        ">***Sex, drugs, etc***\n",
        ">> *Beach Weather*\n",
        ">>> *2022*\n",
        "\n",
        "#Tabla\n",
        "\n",
        "|Asignatura | La razón |\n",
        "|----------|-----------|\n",
        "|Logica y Argumentacion     |  Es una asignatura a la cual le tengo mucho cariño y gracias a ella logre aprender muchos conceptos nuevos     |\n",
        "|Ingles      | Siento que es una asignatura muy importante actualmente y la me servira mucho en un futuro       |\n",
        "|Quimica       | Acrualmente veo quimica del deporte, aunque en general siempre me ha gustado la quimica y me ha parecido muy interesante       |\n"
      ],
      "metadata": {
        "id": "min5i3UmkBAy"
      }
    },
    {
      "cell_type": "code",
      "source": [],
      "metadata": {
        "id": "LoIJaf-Pv4Aw"
      },
      "execution_count": null,
      "outputs": []
    }
  ]
}